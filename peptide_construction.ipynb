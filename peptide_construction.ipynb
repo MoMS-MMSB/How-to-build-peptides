{
 "cells": [
  {
   "cell_type": "code",
   "execution_count": 1,
   "id": "3395baff-8d36-4534-8aa6-74d73bd37f77",
   "metadata": {},
   "outputs": [
    {
     "data": {
      "application/vnd.jupyter.widget-view+json": {
       "model_id": "ffbd5bf8e9b3445ca88eb466b75426fa",
       "version_major": 2,
       "version_minor": 0
      },
      "text/plain": []
     },
     "metadata": {},
     "output_type": "display_data"
    }
   ],
   "source": [
    "#!pip install PeptideBuilder\n",
    "#!pip install nglview\n",
    "#!pip install Bio\n",
    "#!pip install numpy\n",
    "\n",
    "from io import StringIO\n",
    "import Bio\n",
    "from Bio.PDB import PDBIO\n",
    "import PeptideBuilder\n",
    "import nglview as nv\n",
    "import numpy as np"
   ]
  },
  {
   "cell_type": "markdown",
   "id": "65fb267a-4524-47f6-8941-58eadd6fb30f",
   "metadata": {},
   "source": [
    "## Peptide construction\n"
   ]
  },
  {
   "cell_type": "markdown",
   "id": "8fe9dd43-7926-466e-9b9d-f04edc68bc1c",
   "metadata": {},
   "source": [
    "The goal of this tutorial is to make a peptide with any amino acid sequence and shape you like. We'll show you how to do it by building a couple of different peptides:\n",
    "\n",
    "* Example 1: A simple alpha helix made of 10 alanines.\n",
    "* Example 2: A simple beta strand made of 10 alanines.\n",
    "* Example 3: A more interesting peptide (several different aminoacids, two different secondary structures.\n",
    "\n",
    "Then, we can get creative and add any weird atom you want to any peptide:\n",
    "\n",
    "* Example 4: Add a gold atom to a peptide\n",
    "* Example 5: Add CAPs to a peptide\n",
    "\n",
    "The picture you see at the top of this page is an example of something you will be able to build after going through this tutorial."
   ]
  },
  {
   "cell_type": "markdown",
   "id": "1fcde1c7-9a09-43ce-a8de-090438f9ef91",
   "metadata": {},
   "source": [
    "### Example 1: simple alpha helix made of 10 alanines"
   ]
  },
  {
   "cell_type": "markdown",
   "id": "0b1fc7fb-aa3a-4a4b-94b7-8901cbdd7621",
   "metadata": {},
   "source": [
    "Peptide Builder operates by creating a geometry object for every amino acid you want to include in your chain. Each geometry object stores the angle phi and psi, that define how the amino acid is oriented. In the case of a perfect alpha helix, those angles should be -57.8 and -47.\n",
    "\n",
    "These geometry objects are then combined to form a single peptide object, representing the complete structure of the peptide. \n",
    "\n",
    "Once assembled, you can export this structure to a PDB file for further analysis or visualization.\n",
    "\n",
    "But this explanation might sound too abstract. It's better to look at concrete code that does all of that. \n"
   ]
  },
  {
   "cell_type": "code",
   "execution_count": 2,
   "id": "a4b82d08-837f-401a-a66e-23f63d6d3ad8",
   "metadata": {
    "scrolled": true
   },
   "outputs": [],
   "source": [
    "\n",
    "# Define aminoacids\n",
    "sequence = \"AAAAAAAAAA\"\n",
    "\n",
    "\n",
    "# Add the rest of the amino acids to the peptide\n",
    "for i in range(0,len(sequence)):\n",
    "\n",
    "    #get current aminoacid letter code\n",
    "    a=sequence[i]\n",
    "\n",
    "    #define the geometry of the current aminoacid\n",
    "    current_aa_geometry = PeptideBuilder.Geometry.geometry(a)\n",
    "    current_aa_geometry.phi = -57.8\n",
    "    current_aa_geometry.psi_im1 = -47.0 #angle of the immediately preceding residue (where \"im1\" denotes \"i minus 1\")\n",
    "\n",
    "    #insert the current aminoacid in peptide\n",
    "    if i == 0:\n",
    "        peptide1 = PeptideBuilder.initialize_res(current_aa_geometry) # Initialize the peptide with the first amino acid\n",
    "    else:\n",
    "        PeptideBuilder.add_residue(peptide1, current_aa_geometry) # Add current aminoacid to previouly constructed peptide\n",
    "\n",
    "# Save file\n",
    "io = PDBIO()\n",
    "io.set_structure(peptide1)\n",
    "io.save(\"helical_alanines.pdb\")\n"
   ]
  },
  {
   "cell_type": "markdown",
   "id": "8ffc078b-dc21-4f9e-9f1d-fb2442cd71b7",
   "metadata": {},
   "source": [
    "Now we should be able to see the PDB file we created. We'll use NGViewer for that. (While doing it, please notice that sometimes NGViewer just shows a blank image. In those cases, just close and reopen the Jupyter notebook, it should work then.)"
   ]
  },
  {
   "cell_type": "code",
   "execution_count": 3,
   "id": "f144cfb4-5cb9-4691-ad07-e91f98adaa16",
   "metadata": {},
   "outputs": [
    {
     "data": {
      "application/vnd.jupyter.widget-view+json": {
       "model_id": "fdb745d07b0146c680a18a70bc8ff2c0",
       "version_major": 2,
       "version_minor": 0
      },
      "text/plain": [
       "NGLWidget()"
      ]
     },
     "metadata": {},
     "output_type": "display_data"
    }
   ],
   "source": [
    "view = nv.show_file('helical_alanines.pdb')\n",
    "view.clear()\n",
    "view.add_representation('ball+stick', selection='protein')\n",
    "view.add_representation('cartoon', selection='protein')\n",
    "view"
   ]
  },
  {
   "cell_type": "markdown",
   "id": "76f6ce53-1c31-44e9-8616-3346135f4c19",
   "metadata": {},
   "source": [
    "But there is a catch here: the peptide has no hydrogens. To add hydrogens, we will use GROMACS. This will also convert the PDB file into .gro and .top files. (This step requires, of course, that you have GROMACS already installed in your local environment.)"
   ]
  },
  {
   "cell_type": "code",
   "execution_count": 4,
   "id": "4da84f47-7372-4398-9c0a-cb30f6be21a1",
   "metadata": {},
   "outputs": [
    {
     "name": "stdout",
     "output_type": "stream",
     "text": [
      "               :-) GROMACS - gmx pdb2gmx, 2023.4-conda_forge (-:\n",
      "\n",
      "Executable:   /home/hrigitano/miniconda3/envs/bio/bin.AVX2_256/gmx\n",
      "Data prefix:  /home/hrigitano/miniconda3/envs/bio\n",
      "Working dir:  /data3/henrique/templates/peptide_construction\n",
      "Command line:\n",
      "  gmx pdb2gmx -f helical_alanines.pdb -o helical_alanines.gro -p helical_alanines.top -i helical_alanines.posres.itp -ignh -water tip3p -ff charmm27\n",
      "\n",
      "Using the Charmm27 force field in directory charmm27.ff\n",
      "\n",
      "going to rename charmm27.ff/aminoacids.r2b\n",
      "Opening force field file /home/hrigitano/miniconda3/envs/bio/share/gromacs/top/charmm27.ff/aminoacids.r2b\n",
      "\n",
      "going to rename charmm27.ff/rna.r2b\n",
      "Opening force field file /home/hrigitano/miniconda3/envs/bio/share/gromacs/top/charmm27.ff/rna.r2b\n",
      "Reading helical_alanines.pdb...\n",
      "Read '', 50 atoms\n",
      "\n",
      "Analyzing pdb file\n",
      "Splitting chemical chains based on TER records or chain id changing.\n",
      "\n",
      "There are 1 chains and 0 blocks of water and 10 residues with 50 atoms\n",
      "\n",
      "  chain  #res #atoms\n",
      "\n",
      "  1 'A'    10     50  \n",
      "\n",
      "All occupancies are one\n",
      "All occupancies are one\n",
      "Opening force field file /home/hrigitano/miniconda3/envs/bio/share/gromacs/top/charmm27.ff/atomtypes.atp\n",
      "\n",
      "Reading residue database... (Charmm27)\n",
      "Opening force field file /home/hrigitano/miniconda3/envs/bio/share/gromacs/top/charmm27.ff/aminoacids.rtp\n",
      "Opening force field file /home/hrigitano/miniconda3/envs/bio/share/gromacs/top/charmm27.ff/dna.rtp\n",
      "Opening force field file /home/hrigitano/miniconda3/envs/bio/share/gromacs/top/charmm27.ff/lipids.rtp\n",
      "Opening force field file /home/hrigitano/miniconda3/envs/bio/share/gromacs/top/charmm27.ff/rna.rtp\n",
      "Opening force field file /home/hrigitano/miniconda3/envs/bio/share/gromacs/top/charmm27.ff/aminoacids.hdb\n",
      "Opening force field file /home/hrigitano/miniconda3/envs/bio/share/gromacs/top/charmm27.ff/dna.hdb\n",
      "Opening force field file /home/hrigitano/miniconda3/envs/bio/share/gromacs/top/charmm27.ff/lipids.hdb\n",
      "Opening force field file /home/hrigitano/miniconda3/envs/bio/share/gromacs/top/charmm27.ff/rna.hdb\n",
      "Opening force field file /home/hrigitano/miniconda3/envs/bio/share/gromacs/top/charmm27.ff/aminoacids.n.tdb\n",
      "Opening force field file /home/hrigitano/miniconda3/envs/bio/share/gromacs/top/charmm27.ff/dna.n.tdb\n",
      "Opening force field file /home/hrigitano/miniconda3/envs/bio/share/gromacs/top/charmm27.ff/rna.n.tdb\n",
      "Opening force field file /home/hrigitano/miniconda3/envs/bio/share/gromacs/top/charmm27.ff/aminoacids.c.tdb\n",
      "Opening force field file /home/hrigitano/miniconda3/envs/bio/share/gromacs/top/charmm27.ff/dna.c.tdb\n",
      "Opening force field file /home/hrigitano/miniconda3/envs/bio/share/gromacs/top/charmm27.ff/rna.c.tdb\n",
      "\n",
      "Back Off! I just backed up helical_alanines.top to ./#helical_alanines.top.2#\n",
      "\n",
      "Processing chain 1 'A' (50 atoms, 10 residues)\n",
      "\n",
      "Identified residue ALA1 as a starting terminus.\n",
      "\n",
      "Identified residue ALA10 as a ending terminus.\n",
      "8 out of 8 lines of specbond.dat converted successfully\n",
      "Start terminus ALA-1: NH3+\n",
      "End terminus ALA-10: COO-\n",
      "Opening force field file /home/hrigitano/miniconda3/envs/bio/share/gromacs/top/charmm27.ff/aminoacids.arn\n",
      "Opening force field file /home/hrigitano/miniconda3/envs/bio/share/gromacs/top/charmm27.ff/dna.arn\n",
      "Opening force field file /home/hrigitano/miniconda3/envs/bio/share/gromacs/top/charmm27.ff/rna.arn\n",
      "\n",
      "Checking for duplicate atoms....\n",
      "\n",
      "Generating any missing hydrogen atoms and/or adding termini.\n",
      "\n",
      "Now there are 10 residues with 103 atoms\n",
      "\n",
      "Making bonds...\n",
      "\n",
      "Number of bonds was 102, now 102\n",
      "\n",
      "Generating angles, dihedrals and pairs...\n",
      "Before cleaning: 249 pairs\n",
      "Before cleaning: 249 dihedrals\n",
      "\n",
      "Making cmap torsions...\n",
      "\n",
      "There are    8 cmap torsion pairs\n",
      "\n",
      "There are  249 dihedrals,   19 impropers,  183 angles\n",
      "           249 pairs,      102 bonds and     0 virtual sites\n",
      "\n",
      "Total mass 728.806 a.m.u.\n",
      "\n",
      "Total charge 0.000 e\n",
      "\n",
      "Writing topology\n",
      "\n",
      "Back Off! I just backed up helical_alanines.posres.itp to ./#helical_alanines.posres.itp.2#\n",
      "\n",
      "Writing coordinate file...\n",
      "\n",
      "Back Off! I just backed up helical_alanines.gro to ./#helical_alanines.gro.2#\n",
      "\n",
      "\t\t--------- PLEASE NOTE ------------\n",
      "\n",
      "You have successfully generated a topology from: helical_alanines.pdb.\n",
      "\n",
      "The Charmm27 force field and the tip3p water model are used.\n",
      "\n",
      "\t\t--------- ETON ESAELP ------------\n",
      "\n",
      "GROMACS reminds you: \"This isn't right. This isn't even wrong.\" (Wolfgang Pauli)\n",
      "\n"
     ]
    }
   ],
   "source": [
    "!gmx pdb2gmx -f helical_alanines.pdb -o helical_alanines.gro -p helical_alanines.top -i helical_alanines.posres.itp -ignh -water tip3p -ff charmm27\n",
    "\n"
   ]
  },
  {
   "cell_type": "markdown",
   "id": "a0943614-2a6a-45cd-a212-5e670d521dcd",
   "metadata": {},
   "source": [
    "If we visualize the .gro file created from the original PDB, we'll now find hydrogens."
   ]
  },
  {
   "cell_type": "code",
   "execution_count": 5,
   "id": "6bfa8d08-6cc5-4f38-9cc6-337b1bc139ff",
   "metadata": {},
   "outputs": [
    {
     "data": {
      "application/vnd.jupyter.widget-view+json": {
       "model_id": "43b809295e0a4ea9bfe177fb3d81313a",
       "version_major": 2,
       "version_minor": 0
      },
      "text/plain": [
       "NGLWidget()"
      ]
     },
     "metadata": {},
     "output_type": "display_data"
    }
   ],
   "source": [
    "#view\n",
    "view = nv.show_file('helical_alanines.gro')\n",
    "view.clear()\n",
    "view.add_representation('ball+stick', selection='protein')\n",
    "view.add_representation('cartoon', selection='protein')\n",
    "view"
   ]
  },
  {
   "cell_type": "markdown",
   "id": "76a9bf75-6e1d-40fb-9af5-270da4132f9d",
   "metadata": {},
   "source": [
    "## Example 2: A simple beta strand made of 10 alanines"
   ]
  },
  {
   "cell_type": "markdown",
   "id": "186adfde-cf5d-4433-9873-86f6e818e1aa",
   "metadata": {},
   "source": [
    "The code is the same as the previous one that created the helical alanine. The only difference is the setup of the phi and psi angles. In the case of a beta strand, those angles should be -120 and 120."
   ]
  },
  {
   "cell_type": "code",
   "execution_count": 6,
   "id": "63226bab-0e84-4be7-8cdd-613944cf07d7",
   "metadata": {},
   "outputs": [],
   "source": [
    "\n",
    "# Define aminoacids\n",
    "sequence = \"AAAAAAAAAA\"\n",
    "\n",
    "\n",
    "# Add the rest of the amino acids to the peptide\n",
    "for i in range(0,len(sequence)):\n",
    "\n",
    "    #get current aminoacid letter code\n",
    "    a=sequence[i]\n",
    "\n",
    "    #define the geometry of the current aminoacid\n",
    "    current_aa_geometry = PeptideBuilder.Geometry.geometry(a)\n",
    "    current_aa_geometry.phi = -120\n",
    "    current_aa_geometry.psi_im1 = 120 #angle of the immediately preceding residue (where \"im1\" denotes \"i minus 1\")\n",
    "\n",
    "    #insert the current aminoacid in peptide\n",
    "    if i == 0:\n",
    "        peptide2 = PeptideBuilder.initialize_res(current_aa_geometry) # Initialize the peptide with the first amino acid\n",
    "    else:\n",
    "        PeptideBuilder.add_residue(peptide2, current_aa_geometry) # Add current aminoacid to previouly constructed peptide\n",
    "\n",
    "# Save file\n",
    "io = PDBIO()\n",
    "io.set_structure(peptide2)\n",
    "io.save(\"extended_alanines.pdb\")\n",
    "\n",
    "\n",
    "\n"
   ]
  },
  {
   "cell_type": "markdown",
   "id": "712eb091-9c76-4f76-83f8-dcb3993f8e8b",
   "metadata": {},
   "source": [
    "The visualisation code is exactly the same"
   ]
  },
  {
   "cell_type": "code",
   "execution_count": 7,
   "id": "4a7b464e-190e-408b-9c11-9a41435a1c68",
   "metadata": {},
   "outputs": [
    {
     "data": {
      "application/vnd.jupyter.widget-view+json": {
       "model_id": "412d4a97d1c74b2ea9811b3f562b3107",
       "version_major": 2,
       "version_minor": 0
      },
      "text/plain": [
       "NGLWidget()"
      ]
     },
     "metadata": {},
     "output_type": "display_data"
    }
   ],
   "source": [
    "#view\n",
    "view = nv.show_file('extended_alanines.pdb')\n",
    "view.clear()\n",
    "view.add_representation('ball+stick', selection='protein')\n",
    "view.add_representation('cartoon', selection='protein')\n",
    "view"
   ]
  },
  {
   "cell_type": "markdown",
   "id": "1e2ca821-af08-4697-a020-21ce47868549",
   "metadata": {},
   "source": [
    "Again, the molecule doesn't have any hydrogens. But you already know the drill: You have to add them using GROMACS. The hydrogens will be present in the output .gro file."
   ]
  },
  {
   "cell_type": "code",
   "execution_count": 8,
   "id": "8da7a557-21b8-432a-95b5-a5a3ae615f71",
   "metadata": {},
   "outputs": [
    {
     "name": "stdout",
     "output_type": "stream",
     "text": [
      "               :-) GROMACS - gmx pdb2gmx, 2023.4-conda_forge (-:\n",
      "\n",
      "Executable:   /home/hrigitano/miniconda3/envs/bio/bin.AVX2_256/gmx\n",
      "Data prefix:  /home/hrigitano/miniconda3/envs/bio\n",
      "Working dir:  /data3/henrique/templates/peptide_construction\n",
      "Command line:\n",
      "  gmx pdb2gmx -f extended_alanines.pdb -o extended_alanines.gro -p extended_alanines.top -i extended_alanines.posres.itp -ignh -water tip3p -ff charmm27\n",
      "\n",
      "Using the Charmm27 force field in directory charmm27.ff\n",
      "\n",
      "going to rename charmm27.ff/aminoacids.r2b\n",
      "Opening force field file /home/hrigitano/miniconda3/envs/bio/share/gromacs/top/charmm27.ff/aminoacids.r2b\n",
      "\n",
      "going to rename charmm27.ff/rna.r2b\n",
      "Opening force field file /home/hrigitano/miniconda3/envs/bio/share/gromacs/top/charmm27.ff/rna.r2b\n",
      "Reading extended_alanines.pdb...\n",
      "Read '', 50 atoms\n",
      "\n",
      "Analyzing pdb file\n",
      "Splitting chemical chains based on TER records or chain id changing.\n",
      "\n",
      "There are 1 chains and 0 blocks of water and 10 residues with 50 atoms\n",
      "\n",
      "  chain  #res #atoms\n",
      "\n",
      "  1 'A'    10     50  \n",
      "\n",
      "All occupancies are one\n",
      "All occupancies are one\n",
      "Opening force field file /home/hrigitano/miniconda3/envs/bio/share/gromacs/top/charmm27.ff/atomtypes.atp\n",
      "\n",
      "Reading residue database... (Charmm27)\n",
      "Opening force field file /home/hrigitano/miniconda3/envs/bio/share/gromacs/top/charmm27.ff/aminoacids.rtp\n",
      "Opening force field file /home/hrigitano/miniconda3/envs/bio/share/gromacs/top/charmm27.ff/dna.rtp\n",
      "Opening force field file /home/hrigitano/miniconda3/envs/bio/share/gromacs/top/charmm27.ff/lipids.rtp\n",
      "Opening force field file /home/hrigitano/miniconda3/envs/bio/share/gromacs/top/charmm27.ff/rna.rtp\n",
      "Opening force field file /home/hrigitano/miniconda3/envs/bio/share/gromacs/top/charmm27.ff/aminoacids.hdb\n",
      "Opening force field file /home/hrigitano/miniconda3/envs/bio/share/gromacs/top/charmm27.ff/dna.hdb\n",
      "Opening force field file /home/hrigitano/miniconda3/envs/bio/share/gromacs/top/charmm27.ff/lipids.hdb\n",
      "Opening force field file /home/hrigitano/miniconda3/envs/bio/share/gromacs/top/charmm27.ff/rna.hdb\n",
      "Opening force field file /home/hrigitano/miniconda3/envs/bio/share/gromacs/top/charmm27.ff/aminoacids.n.tdb\n",
      "Opening force field file /home/hrigitano/miniconda3/envs/bio/share/gromacs/top/charmm27.ff/dna.n.tdb\n",
      "Opening force field file /home/hrigitano/miniconda3/envs/bio/share/gromacs/top/charmm27.ff/rna.n.tdb\n",
      "Opening force field file /home/hrigitano/miniconda3/envs/bio/share/gromacs/top/charmm27.ff/aminoacids.c.tdb\n",
      "Opening force field file /home/hrigitano/miniconda3/envs/bio/share/gromacs/top/charmm27.ff/dna.c.tdb\n",
      "Opening force field file /home/hrigitano/miniconda3/envs/bio/share/gromacs/top/charmm27.ff/rna.c.tdb\n",
      "\n",
      "Back Off! I just backed up extended_alanines.top to ./#extended_alanines.top.3#\n",
      "\n",
      "Processing chain 1 'A' (50 atoms, 10 residues)\n",
      "\n",
      "Identified residue ALA1 as a starting terminus.\n",
      "\n",
      "Identified residue ALA10 as a ending terminus.\n",
      "8 out of 8 lines of specbond.dat converted successfully\n",
      "Start terminus ALA-1: NH3+\n",
      "End terminus ALA-10: COO-\n",
      "Opening force field file /home/hrigitano/miniconda3/envs/bio/share/gromacs/top/charmm27.ff/aminoacids.arn\n",
      "Opening force field file /home/hrigitano/miniconda3/envs/bio/share/gromacs/top/charmm27.ff/dna.arn\n",
      "Opening force field file /home/hrigitano/miniconda3/envs/bio/share/gromacs/top/charmm27.ff/rna.arn\n",
      "\n",
      "Checking for duplicate atoms....\n",
      "\n",
      "Generating any missing hydrogen atoms and/or adding termini.\n",
      "\n",
      "Now there are 10 residues with 103 atoms\n",
      "\n",
      "Making bonds...\n",
      "\n",
      "Number of bonds was 102, now 102\n",
      "\n",
      "Generating angles, dihedrals and pairs...\n",
      "Before cleaning: 249 pairs\n",
      "Before cleaning: 249 dihedrals\n",
      "\n",
      "Making cmap torsions...\n",
      "\n",
      "There are    8 cmap torsion pairs\n",
      "\n",
      "There are  249 dihedrals,   19 impropers,  183 angles\n",
      "           249 pairs,      102 bonds and     0 virtual sites\n",
      "\n",
      "Total mass 728.806 a.m.u.\n",
      "\n",
      "Total charge 0.000 e\n",
      "\n",
      "Writing topology\n",
      "\n",
      "Back Off! I just backed up extended_alanines.posres.itp to ./#extended_alanines.posres.itp.3#\n",
      "\n",
      "Writing coordinate file...\n",
      "\n",
      "Back Off! I just backed up extended_alanines.gro to ./#extended_alanines.gro.3#\n",
      "\n",
      "\t\t--------- PLEASE NOTE ------------\n",
      "\n",
      "You have successfully generated a topology from: extended_alanines.pdb.\n",
      "\n",
      "The Charmm27 force field and the tip3p water model are used.\n",
      "\n",
      "\t\t--------- ETON ESAELP ------------\n",
      "\n",
      "GROMACS reminds you: \"Mendeleev's first attempt, the perfluoric table, was a total disaster, and his subsequent attempts, the perchloric and perbromic tables, were not favorably received. Only his fourth attempt, the periodic table, gained general acceptance.\" (Anonymous)\n",
      "\n"
     ]
    }
   ],
   "source": [
    "!gmx pdb2gmx -f extended_alanines.pdb -o extended_alanines.gro -p extended_alanines.top -i extended_alanines.posres.itp -ignh -water tip3p -ff charmm27\n"
   ]
  },
  {
   "cell_type": "code",
   "execution_count": 9,
   "id": "04769184-cc66-494b-9203-f35546428772",
   "metadata": {},
   "outputs": [
    {
     "data": {
      "application/vnd.jupyter.widget-view+json": {
       "model_id": "709a65ec79fd4a9c96b5c6e948b2d9e5",
       "version_major": 2,
       "version_minor": 0
      },
      "text/plain": [
       "NGLWidget()"
      ]
     },
     "metadata": {},
     "output_type": "display_data"
    }
   ],
   "source": [
    "#view\n",
    "view = nv.show_file('extended_alanines.gro')\n",
    "view.clear()\n",
    "view.add_representation('ball+stick', selection='protein')\n",
    "view.add_representation('cartoon', selection='protein')\n",
    "view"
   ]
  },
  {
   "cell_type": "markdown",
   "id": "6f5ebc9d-1c47-4fb1-ac73-7c176e1a4fd0",
   "metadata": {},
   "source": [
    "## Example 3 : A more interesting peptide"
   ]
  },
  {
   "cell_type": "markdown",
   "id": "16348cbc-30c8-47d5-9c0a-f9d6b875b7d5",
   "metadata": {},
   "source": [
    "Now lets create peptide made of interesting amino acids.\n",
    "\n",
    "For an interesting mix, we have, among others, serine (S) for potential phosphorylation sites, cysteine (C) for potential disulfide bond formation, histidine (H) which can be protonated or deprotonated depending on pH, and tryptophan (W) with a bulky ring that can be involved in protein-protein interactions.\n",
    "\n",
    "More over lets try build a secondary structure made of a alpha helix of 10 residues, and then the structure changes into a beta strand. \n",
    "\n",
    "I don't know if such a peptide is stable enough to exist in real life. This is just to learn how to play with the angles."
   ]
  },
  {
   "cell_type": "code",
   "execution_count": 10,
   "id": "588dc715-3968-46cb-8a15-e49186d5181d",
   "metadata": {},
   "outputs": [],
   "source": [
    "\n",
    "\n",
    "# Define the aminoacids\n",
    "sequence = \"MCEHMSALEWALEHMSALEM\"\n",
    "\n",
    "\n",
    "# Construct the pepide up untill the 10th residue as a alpha helix\n",
    "for i in range(0,11):\n",
    "\n",
    "    #get current aminoacid letter code\n",
    "    a=sequence[i]\n",
    "\n",
    "    #define the geometry of the current aminoacid\n",
    "    current_aa_geometry = PeptideBuilder.Geometry.geometry(a)\n",
    "    current_aa_geometry.phi = -57.8\n",
    "    current_aa_geometry.psi_im1 = -47.0 #angle of the immediately preceding residue (where \"im1\" denotes \"i minus 1\")\n",
    "\n",
    "    #insert the current aminoacid in peptide\n",
    "    if i == 0:\n",
    "        peptide3 = PeptideBuilder.initialize_res(current_aa_geometry) # Initialize the peptide with the first amino acid\n",
    "    else:\n",
    "        PeptideBuilder.add_residue(peptide3, current_aa_geometry) # Add current aminoacid to previouly constructed peptide\n",
    "\n",
    "\n",
    "\n",
    "\n",
    "# Add the rest of the amino acids to the peptide, but now as a beta strand\n",
    "for i in range(10,len(sequence)):\n",
    "\n",
    "    #get current aminoacid letter code\n",
    "    a=sequence[i]\n",
    "\n",
    "    #define the geometry of the current aminoacid\n",
    "    current_aa_geometry = PeptideBuilder.Geometry.geometry(a)\n",
    "    current_aa_geometry.phi = -120\n",
    "    current_aa_geometry.psi_im1 = 120 #angle of the immediately preceding residue (where \"im1\" denotes \"i minus 1\")\n",
    "\n",
    "    #insert the current aminoacid in peptide\n",
    "    PeptideBuilder.add_residue(peptide3, current_aa_geometry) # Add current aminoacid to previouly constructed peptide\n",
    "\n",
    "\n",
    "\n",
    "\n",
    "\n",
    "\n",
    "\n",
    "# Save file\n",
    "io = PDBIO()\n",
    "io.set_structure(peptide3)\n",
    "io.save(\"interesting.pdb\")\n"
   ]
  },
  {
   "cell_type": "code",
   "execution_count": 2,
   "id": "1ae5feda-4d5a-418d-9836-29ea5df8db64",
   "metadata": {},
   "outputs": [
    {
     "data": {
      "application/vnd.jupyter.widget-view+json": {
       "model_id": "caf2936c7f36417087b52899098a63b0",
       "version_major": 2,
       "version_minor": 0
      },
      "text/plain": [
       "NGLWidget()"
      ]
     },
     "metadata": {},
     "output_type": "display_data"
    }
   ],
   "source": [
    "#view\n",
    "view = nv.show_file('interesting.pdb')\n",
    "view.clear()\n",
    "view.add_representation('ball+stick', selection='protein')\n",
    "view.add_representation('cartoon', selection='protein')\n",
    "view"
   ]
  },
  {
   "cell_type": "markdown",
   "id": "84f33007-42d6-4757-94cc-f7d5ed8384fe",
   "metadata": {},
   "source": [
    "## Example 4: Add a gold atom to a peptide\n"
   ]
  },
  {
   "cell_type": "markdown",
   "id": "9fe0f8f2-f97e-43cb-abce-f4d90b0e9f0d",
   "metadata": {},
   "source": [
    "We star by building a simple peptide (6 residue alanine). We already know how to do that."
   ]
  },
  {
   "cell_type": "code",
   "execution_count": 23,
   "id": "3e664594-1047-45c3-b058-d20460b09882",
   "metadata": {},
   "outputs": [],
   "source": [
    "# Define aminoacids\n",
    "sequence = \"AAAAAA\"\n",
    "\n",
    "\n",
    "# Add the rest of the amino acids to the peptide\n",
    "for i in range(0,len(sequence)):\n",
    "\n",
    "    #get current aminoacid letter code\n",
    "    a=sequence[i]\n",
    "\n",
    "    #define the geometry of the current aminoacid\n",
    "    current_aa_geometry = PeptideBuilder.Geometry.geometry(a)\n",
    "    current_aa_geometry.phi = -57.8\n",
    "    current_aa_geometry.psi_im1 = -47.0 #angle of the immediately preceding residue (where \"im1\" denotes \"i minus 1\")\n",
    "\n",
    "    #insert the current aminoacid in peptide\n",
    "    if i == 0:\n",
    "        peptide4 = PeptideBuilder.initialize_res(current_aa_geometry) # Initialize the peptide with the first amino acid\n",
    "    else:\n",
    "        PeptideBuilder.add_residue(peptide4, current_aa_geometry) # Add current aminoacid to previouly constructed peptide\n",
    "\n",
    "# Save file\n",
    "io = PDBIO()\n",
    "io.set_structure(peptide4)\n",
    "io.save(\"helical_6alanine.pdb\")"
   ]
  },
  {
   "cell_type": "code",
   "execution_count": 24,
   "id": "ac3e8ce7-5451-45da-8896-f3ed56c75049",
   "metadata": {},
   "outputs": [
    {
     "data": {
      "application/vnd.jupyter.widget-view+json": {
       "model_id": "b778ce3b4f5b4b59bc3c9a8ebc6ea70f",
       "version_major": 2,
       "version_minor": 0
      },
      "text/plain": [
       "NGLWidget()"
      ]
     },
     "metadata": {},
     "output_type": "display_data"
    }
   ],
   "source": [
    "#view\n",
    "view = nv.show_file('helical_6alanine.pdb')\n",
    "view.clear()\n",
    "view.add_representation('ball+stick')\n",
    "view.add_representation('cartoon', selection='protein')\n",
    "view"
   ]
  },
  {
   "cell_type": "markdown",
   "id": "b1dcc25f-be5d-4bd1-a479-571eb5bedc40",
   "metadata": {},
   "source": [
    "Now, to add weird molecules to it, we have to make use of the Bio.PDB.Atom.Atom object. It alows us to put any atom we want in any position. To succeed, what we have to to is to know the correct coordinates to put it. For example, to put a gold in the tip (N-terminus) first we have to obtain the coordenates of the N atom on that N-terminus, and then set the gold atom at some distance of that coordenate. We can set any distance we want, but it would be wise to set a distance of 2.1, because thats the real distance between N and Au in real molecules.\n",
    "\n"
   ]
  },
  {
   "cell_type": "code",
   "execution_count": 25,
   "id": "029ba8eb-e391-4947-8dde-3ac71b0b77cf",
   "metadata": {},
   "outputs": [],
   "source": [
    "def add_gold(peptide):\n",
    "\n",
    "    #obtain the list of all residues. remember that the peptide object can have several models (we get the first, with id 0) and a model can have several chains (we get the only one, named A)\n",
    "    l_residues =  list(peptide[0]['A'].get_residues()) \n",
    "\n",
    "    # Get the first residue in the chain\n",
    "    first_residue = l_residues[0]  \n",
    "    # Obtain the coordenates of the nitrogen in that first residue\n",
    "    x, y, z  = first_residue['N'].get_coord() \n",
    "\n",
    "    # Add the gold Atom, using the coordenates we just obtained\n",
    "    acetyl_c1 = Bio.PDB.Atom.Atom(\"1ACE\", [x - 2.1, y, z], 0.0, 1.0, ' ', '1ACE ', 1001, 'AU')\n",
    "\n",
    "\n",
    "    # Add the acetyl atoms to the residue\n",
    "    first_residue.add(acetyl_c1)\n",
    "\n",
    "# Usage\n",
    "add_gold(peptide4)\n",
    "\n",
    "# Save file\n",
    "io = PDBIO()\n",
    "io.set_structure(peptide4)\n",
    "io.save(\"helical_6alanine_with_gold.pdb\")"
   ]
  },
  {
   "cell_type": "markdown",
   "id": "eb3dd18e-04fc-4d80-b760-92e9c58c5573",
   "metadata": {},
   "source": [
    "Look at the gold atom on the tip! "
   ]
  },
  {
   "cell_type": "code",
   "execution_count": 26,
   "id": "8ff65f88-958f-4559-94a4-c82b9035acc4",
   "metadata": {},
   "outputs": [
    {
     "data": {
      "application/vnd.jupyter.widget-view+json": {
       "model_id": "dcd4c260a3cc4a40baf9075e430446ff",
       "version_major": 2,
       "version_minor": 0
      },
      "text/plain": [
       "NGLWidget()"
      ]
     },
     "metadata": {},
     "output_type": "display_data"
    }
   ],
   "source": [
    "#view\n",
    "view = nv.show_file('helical_6alanine_with_gold.pdb')\n",
    "view.clear()\n",
    "view.add_representation('ball+stick')\n",
    "view.add_representation('cartoon', selection='protein')\n",
    "view"
   ]
  },
  {
   "cell_type": "markdown",
   "id": "436d5d16-efc1-4760-91d5-15676eb07dea",
   "metadata": {},
   "source": [
    "But you have to be aware that this tool don juge what you do, it just obeys your orders without any questioning. This might be good, because you can actually do whatever you want. You can place any atoms at any coordenates. But in some cases that might be problematic, because you creation might be completely unrealistic and unstable ."
   ]
  },
  {
   "cell_type": "markdown",
   "id": "76776a0d-c566-433a-ad7b-8ed0bc6d51c2",
   "metadata": {},
   "source": [
    "## Example 5: Add CAPs to a peptide"
   ]
  },
  {
   "cell_type": "markdown",
   "id": "49d6272e-8158-4eea-b7fa-538a6577e5ff",
   "metadata": {},
   "source": [
    "After that exotic gold addition, let's do something more realistic: add an acetyl cap to the N-terminus. This is done frequently in the real pharmaceutical industry to eliminate partial charges at the N-terminus and make the peptide more stable under physiological conditions.\n",
    "\n",
    "Once again, we begin by creating a peptide with 6 alanines."
   ]
  },
  {
   "cell_type": "code",
   "execution_count": 29,
   "id": "bd861fd1-7706-45e3-b73e-7482f082f703",
   "metadata": {},
   "outputs": [],
   "source": [
    "# Define aminoacids\n",
    "sequence = \"AAAAAA\"\n",
    "\n",
    "\n",
    "# Add the rest of the amino acids to the peptide\n",
    "for i in range(0,len(sequence)):\n",
    "\n",
    "    #get current aminoacid letter code\n",
    "    a=sequence[i]\n",
    "\n",
    "    #define the geometry of the current aminoacid\n",
    "    current_aa_geometry = PeptideBuilder.Geometry.geometry(a)\n",
    "    current_aa_geometry.phi = -57.8\n",
    "    current_aa_geometry.psi_im1 = -47.0 #angle of the immediately preceding residue (where \"im1\" denotes \"i minus 1\")\n",
    "\n",
    "    #insert the current aminoacid in peptide\n",
    "    if i == 0:\n",
    "        peptide5 = PeptideBuilder.initialize_res(current_aa_geometry) # Initialize the peptide with the first amino acid\n",
    "    else:\n",
    "        PeptideBuilder.add_residue(peptide5, current_aa_geometry) # Add current aminoacid to previouly constructed peptide\n",
    "\n",
    "# Save file\n",
    "io = PDBIO()\n",
    "io.set_structure(peptide5)\n",
    "io.save(\"helical_6alanine.pdb\")"
   ]
  },
  {
   "cell_type": "code",
   "execution_count": 30,
   "id": "fabe575d-2150-43e6-804d-3a40b1c607a2",
   "metadata": {},
   "outputs": [
    {
     "data": {
      "application/vnd.jupyter.widget-view+json": {
       "model_id": "98b75f32885147f5b460512ea60dce73",
       "version_major": 2,
       "version_minor": 0
      },
      "text/plain": [
       "NGLWidget()"
      ]
     },
     "metadata": {},
     "output_type": "display_data"
    }
   ],
   "source": [
    "#view\n",
    "view = nv.show_file('helical_6alanine.pdb')\n",
    "view.clear()\n",
    "view.add_representation('ball+stick', selection='protein')\n",
    "view.add_representation('cartoon', selection='protein')\n",
    "view"
   ]
  },
  {
   "cell_type": "markdown",
   "id": "40f5c26b-66a1-434b-b648-ef5f14790edc",
   "metadata": {},
   "source": [
    "Now we have to place that cap, but we should do that in a realistic way. That's kind of difficult to do, because 'Bio.PDB.Atom.Atom' requires x, y, and z coordinates. It's difficult to set those coordinates so to obey realistic distances and angles between atoms.\n",
    "\n",
    "To solve that, let's create a function that give us the the x, y, and z coordinates, by giving as input some atoms present in the peptide, and also distances and angles using those atoms as reference.\n",
    "\n",
    "Lets imagine how such a function could do the job.\n",
    "\n",
    "The first thing the function should try to do is to place a new atom at a specified distance from a chosen atom in the peptide. But remember that only a distance from a single atom is not enough to define a unambiguous position of the new atom, as the new atom could be anywhere in a sphere around the reference atom. Thats why we also have to provide a second atom as input to the function. That will allow it to define the direction to which the new atom should go.\n",
    "\n",
    "That could be enough in most cases. But let's be very professional and also allow setting angles of deviations from that direction. That will allow us to, for example, turn 45 degrees from that original direction. But then we hit another ambiguity; it's not possible to know in advance the direction of that angle. To solve this, we have to provide a third atom as input. That will define a plane. By doing this, we can provide the function with two angles: the angle within that plane, and the angle normal to that plane. Now we have the power to define the position in a very flexible way. To place, for example, a new atom on a hydrocarbon, where the carbons follow a zigzag pattern, one can do the following: find_new_atom_coord(last_atom, last_atom-1, last_atom-2, distance=1.5, angle_in_plane=45, angle_out_plane=0).\n",
    "\n",
    "Here is the function:"
   ]
  },
  {
   "cell_type": "code",
   "execution_count": 31,
   "id": "c925c920-0926-4142-aab0-95a55d9d4c9f",
   "metadata": {},
   "outputs": [],
   "source": [
    "def find_new_atom_coord(atom1, atom2, atom3, distance, angle_in_plane_deg, angle_to_plane_deg):\n",
    "    \"\"\"\n",
    "    \n",
    "    code in python to find those x y and z coordinates using as inputs: \n",
    "    a list with the coordinates of atom 1, \n",
    "    a list with the coordinates of atom 2, \n",
    "    a list with the coordinates of atom 3, \n",
    "    a distance from atom 1, \n",
    "    an angle (referenced from the line formed from the the line between atoms 1 and 2) within the plane formed by the 3 atoms, \n",
    "    and a second angle (referenced from the line formed from the the line between atoms 1 and 2) within the plane formed by the 3 atoms\n",
    "\n",
    "    \"\"\"\n",
    "\n",
    "    \n",
    "    # Convert angles from degrees to radians\n",
    "    angle_in_plane = np.radians(angle_in_plane_deg)\n",
    "    angle_to_plane = np.radians(angle_to_plane_deg)\n",
    "    \n",
    "    # Vectors between atoms\n",
    "    v12 = np.array(atom1) - np.array(atom2)\n",
    "    v13 = np.array(atom3) - np.array(atom1)\n",
    "    \n",
    "    # Normal to the plane defined by the three atoms\n",
    "    normal = np.cross(v12, v13)\n",
    "    normal_unit = normal / np.linalg.norm(normal)\n",
    "    \n",
    "    # Unit vector along atom1 to atom2\n",
    "    v12_unit = v12 / np.linalg.norm(v12)\n",
    "    \n",
    "    # Vector in the plane perpendicular to v12\n",
    "    in_plane_perpendicular = np.cross(normal, v12)\n",
    "    in_plane_perpendicular_unit = in_plane_perpendicular / np.linalg.norm(in_plane_perpendicular)\n",
    "    \n",
    "    # New atom position calculation\n",
    "    direction_vector = (np.cos(angle_in_plane) * v12_unit +\n",
    "                        np.sin(angle_in_plane) * in_plane_perpendicular_unit)\n",
    "    direction_vector_unit = direction_vector / np.linalg.norm(direction_vector)\n",
    "    \n",
    "    # Final position calculation\n",
    "    final_vector = np.cos(angle_to_plane) * direction_vector_unit + np.sin(angle_to_plane) * normal_unit\n",
    "    final_position = np.array(atom1) + distance * final_vector\n",
    "\n",
    "    return final_position"
   ]
  },
  {
   "cell_type": "markdown",
   "id": "79e627c1-75d9-429e-aafa-1a0281db85bb",
   "metadata": {},
   "source": [
    "Now, using that function, we can add the two carbons and the oxygen of the acetyl cap in a realistic position. Of course, you have to know what those realistic distances and angles are. But generally, this is something that chemists already know. In our case, the distance is 1.5 Å and 45 degrees from the previous atom."
   ]
  },
  {
   "cell_type": "code",
   "execution_count": 32,
   "id": "67cba474-6431-4773-a5e9-a60925599c13",
   "metadata": {},
   "outputs": [],
   "source": [
    "def add_acetyl(peptide):\n",
    "    \n",
    "    chain = peptide[0]['A']\n",
    "    l_residues = list(chain.get_residues())\n",
    "\n",
    "    # Get the first residue in the chain and its coordinates\n",
    "    first_residue = l_residues[0]\n",
    "    coordsN = first_residue['N'].get_coord()\n",
    "    coordsCA = first_residue['CA'].get_coord()\n",
    "    coordsC = first_residue['C'].get_coord()\n",
    "\n",
    "    # Create the first C of ACE\n",
    "    coords = find_new_atom_coord(coordsN, coordsCA, coordsC, 1.5, -45, 0)\n",
    "    acetyl_c1 = Bio.PDB.Atom.Atom(\"C\", coords, 0.0, 1.0, ' ', 'C', 1001, 'C')\n",
    "\n",
    "    # Create the second C, and the O of ACE\n",
    "    coords = find_new_atom_coord(acetyl_c1.coord, coordsN, coordsCA, 1.5, +45, 0)\n",
    "    acetyl_c2 = Bio.PDB.Atom.Atom(\"CH3\", coords, 0.0, 1.0, ' ', 'CH3', 1002, 'C')\n",
    "    coords = find_new_atom_coord(acetyl_c1.coord, coordsN, coordsCA, 1.5, -45, 0)\n",
    "    acetyl_o = Bio.PDB.Atom.Atom(\"O\", coords, 0.0, 1.0, ' ', 'O', 1003, 'O')\n",
    "\n",
    "    #IMPORTANT: THE NAMES OF THE ATOMS IN ACE HAVE TO MATCH THE NAMES OF THE FORCEFIELD YOU WILL CHOSE IN THE FUTURE\n",
    "    #THE NAMES \"CH3\", \"C\" AND \"O\" COMM FROM \"CHARMM27\". THEY CAN BE FOUND IN THE FILE \"aminoacids.hdb\" \n",
    "\n",
    "    # Create the new ACE residue\n",
    "    ace_residue = Bio.PDB.Residue.Residue((' ', 1, ' '), 'ACE', '    ')\n",
    "    ace_residue.add(acetyl_c1)\n",
    "    ace_residue.add(acetyl_c2)\n",
    "    ace_residue.add(acetyl_o)\n",
    "\n",
    "    # Detach all residues to avoid index conflict\n",
    "    for residue in l_residues:\n",
    "        chain.detach_child(residue.id)\n",
    "\n",
    "    # Insert the ACE residue\n",
    "    chain.add(ace_residue)\n",
    "\n",
    "    # Re-insert each residue with updated numbers\n",
    "    for i, residue in enumerate(l_residues, start=2):\n",
    "        residue.id = (residue.id[0], i, residue.id[2])\n",
    "        chain.add(residue)\n",
    "\n",
    "# Usage\n",
    "add_acetyl(peptide5)\n",
    "\n",
    "# Save the file\n",
    "io = PDBIO()\n",
    "io.set_structure(peptide5)\n",
    "io.save(\"helical_6alanine_with_ACE.pdb\")\n",
    "\n"
   ]
  },
  {
   "cell_type": "markdown",
   "id": "b019923f-4b7a-4573-84d6-3c334ebf77db",
   "metadata": {},
   "source": [
    "Now you can look at that realistic acetil, placed realisticly in the N-terminus"
   ]
  },
  {
   "cell_type": "code",
   "execution_count": 33,
   "id": "fa92014b-a49e-4023-b81d-b65a09476d9c",
   "metadata": {},
   "outputs": [
    {
     "data": {
      "application/vnd.jupyter.widget-view+json": {
       "model_id": "cc0977ababe44cb58decf1b55c490700",
       "version_major": 2,
       "version_minor": 0
      },
      "text/plain": [
       "NGLWidget()"
      ]
     },
     "metadata": {},
     "output_type": "display_data"
    }
   ],
   "source": [
    "#view\n",
    "view = nv.show_file('helical_6alanine_with_ACE.pdb')\n",
    "view.clear()\n",
    "view.add_representation('ball+stick')\n",
    "view.add_representation('cartoon', selection='protein')\n",
    "view"
   ]
  },
  {
   "cell_type": "markdown",
   "id": "78d67f44-bfd2-4310-af40-586d7e561252",
   "metadata": {},
   "source": [
    "Once again, the hydrogens are missing. Previously, we used pdb2gmx to solve this issue. But now there is a trap: we added a weird thing at the N-terminus, which will confuse the standard call of pdb2gmx. To avoid this trap, can use the option -ter to tell pdb2gmx not to treat the tips the way it would normally do. This option actually serves to choose how to treat the N and C termini of the peptide. In the case of the C terminus, we have to choose option 3 (None). This is the option that will save us from the trap.\n",
    "\n",
    "Additionally, we will also be asked how to treat the C-terminus. The option 0 would add the standard COO- group. But let's use this opportunity to also add an N-terminus cap, so we just choose the option 2 (CT2). That intuitive name stands for the Amide cap, usually called NME. \n",
    "\n",
    "Notice how add a NME cap to the C-terminus is much easier than the manual construction and addition of the ACE to the N-terminus!"
   ]
  },
  {
   "cell_type": "code",
   "execution_count": 21,
   "id": "55fb39b7-f968-476c-bdd5-0c3e4cc0cae5",
   "metadata": {},
   "outputs": [
    {
     "name": "stdout",
     "output_type": "stream",
     "text": [
      "               :-) GROMACS - gmx pdb2gmx, 2023.4-conda_forge (-:\n",
      "\n",
      "Executable:   /home/hrigitano/miniconda3/envs/bio/bin.AVX2_256/gmx\n",
      "Data prefix:  /home/hrigitano/miniconda3/envs/bio\n",
      "Working dir:  /data3/henrique/templates/peptide_construction\n",
      "Command line:\n",
      "  gmx pdb2gmx -f helical_6alanine_with_ACE.pdb -o helical_6alanine_with_ACE.gro -p helical_6alanine_with_ACE.top -i helical_6alanine_with_ACE.posres.itp -ignh -water tip3p -ff charmm27 -ter\n",
      "\n",
      "Using the Charmm27 force field in directory charmm27.ff\n",
      "\n",
      "going to rename charmm27.ff/aminoacids.r2b\n",
      "Opening force field file /home/hrigitano/miniconda3/envs/bio/share/gromacs/top/charmm27.ff/aminoacids.r2b\n",
      "\n",
      "going to rename charmm27.ff/rna.r2b\n",
      "Opening force field file /home/hrigitano/miniconda3/envs/bio/share/gromacs/top/charmm27.ff/rna.r2b\n",
      "Reading helical_6alanine_with_ACE.pdb...\n",
      "Read '', 33 atoms\n",
      "\n",
      "Analyzing pdb file\n",
      "Splitting chemical chains based on TER records or chain id changing.\n",
      "\n",
      "There are 1 chains and 0 blocks of water and 7 residues with 33 atoms\n",
      "\n",
      "  chain  #res #atoms\n",
      "\n",
      "  1 'A'     7     33  \n",
      "\n",
      "All occupancies are one\n",
      "All occupancies are one\n",
      "Opening force field file /home/hrigitano/miniconda3/envs/bio/share/gromacs/top/charmm27.ff/atomtypes.atp\n",
      "\n",
      "Reading residue database... (Charmm27)\n",
      "Opening force field file /home/hrigitano/miniconda3/envs/bio/share/gromacs/top/charmm27.ff/aminoacids.rtp\n",
      "Opening force field file /home/hrigitano/miniconda3/envs/bio/share/gromacs/top/charmm27.ff/dna.rtp\n",
      "Opening force field file /home/hrigitano/miniconda3/envs/bio/share/gromacs/top/charmm27.ff/lipids.rtp\n",
      "Opening force field file /home/hrigitano/miniconda3/envs/bio/share/gromacs/top/charmm27.ff/rna.rtp\n",
      "Opening force field file /home/hrigitano/miniconda3/envs/bio/share/gromacs/top/charmm27.ff/aminoacids.hdb\n",
      "Opening force field file /home/hrigitano/miniconda3/envs/bio/share/gromacs/top/charmm27.ff/dna.hdb\n",
      "Opening force field file /home/hrigitano/miniconda3/envs/bio/share/gromacs/top/charmm27.ff/lipids.hdb\n",
      "Opening force field file /home/hrigitano/miniconda3/envs/bio/share/gromacs/top/charmm27.ff/rna.hdb\n",
      "Opening force field file /home/hrigitano/miniconda3/envs/bio/share/gromacs/top/charmm27.ff/aminoacids.n.tdb\n",
      "Opening force field file /home/hrigitano/miniconda3/envs/bio/share/gromacs/top/charmm27.ff/dna.n.tdb\n",
      "Opening force field file /home/hrigitano/miniconda3/envs/bio/share/gromacs/top/charmm27.ff/rna.n.tdb\n",
      "Opening force field file /home/hrigitano/miniconda3/envs/bio/share/gromacs/top/charmm27.ff/aminoacids.c.tdb\n",
      "Opening force field file /home/hrigitano/miniconda3/envs/bio/share/gromacs/top/charmm27.ff/dna.c.tdb\n",
      "Opening force field file /home/hrigitano/miniconda3/envs/bio/share/gromacs/top/charmm27.ff/rna.c.tdb\n",
      "\n",
      "Back Off! I just backed up helical_6alanine_with_ACE.top to ./#helical_6alanine_with_ACE.top.17#\n",
      "\n",
      "Processing chain 1 'A' (33 atoms, 7 residues)\n",
      "\n",
      "Identified residue ACE1 as a starting terminus.\n",
      "\n",
      "Identified residue ALA7 as a ending terminus.\n",
      "8 out of 8 lines of specbond.dat converted successfully\n",
      "Select start terminus type for ACE-1\n",
      " 0: NH3+\n",
      " 1: NH2\n",
      " 2: 5'\n",
      " 3: None\n",
      "Start terminus ACE-1: None\n",
      "Select end terminus type for ALA-7\n",
      " 0: COO-\n",
      " 1: COOH\n",
      " 2: CT2\n",
      " 3: CT3\n",
      " 4: 3'\n",
      " 5: None\n",
      "End terminus ALA-7: CT3\n",
      "Opening force field file /home/hrigitano/miniconda3/envs/bio/share/gromacs/top/charmm27.ff/aminoacids.arn\n",
      "Opening force field file /home/hrigitano/miniconda3/envs/bio/share/gromacs/top/charmm27.ff/dna.arn\n",
      "Opening force field file /home/hrigitano/miniconda3/envs/bio/share/gromacs/top/charmm27.ff/rna.arn\n",
      "\n",
      "Checking for duplicate atoms....\n",
      "\n",
      "Generating any missing hydrogen atoms and/or adding termini.\n",
      "\n",
      "Now there are 7 residues with 72 atoms\n",
      "\n",
      "Making bonds...\n",
      "\n",
      "Number of bonds was 72, now 71\n",
      "\n",
      "Generating angles, dihedrals and pairs...\n",
      "Before cleaning: 166 pairs\n",
      "Before cleaning: 166 dihedrals\n",
      "\n",
      "Making cmap torsions...\n",
      "\n",
      "There are    5 cmap torsion pairs\n",
      "\n",
      "There are  166 dihedrals,   14 impropers,  126 angles\n",
      "           166 pairs,       71 bonds and     0 virtual sites\n",
      "\n",
      "Total mass 499.565 a.m.u.\n",
      "\n",
      "Total charge 0.000 e\n",
      "\n",
      "Writing topology\n",
      "\n",
      "Back Off! I just backed up helical_6alanine_with_ACE.posres.itp to ./#helical_6alanine_with_ACE.posres.itp.10#\n",
      "\n",
      "Writing coordinate file...\n",
      "\n",
      "Back Off! I just backed up helical_6alanine_with_ACE.gro to ./#helical_6alanine_with_ACE.gro.10#\n",
      "\n",
      "\t\t--------- PLEASE NOTE ------------\n",
      "\n",
      "You have successfully generated a topology from: helical_6alanine_with_ACE.pdb.\n",
      "\n",
      "The Charmm27 force field and the tip3p water model are used.\n",
      "\n",
      "\t\t--------- ETON ESAELP ------------\n",
      "\n",
      "GROMACS reminds you: \"Dr Pauling, how do you have so many good ideas? Well David, I have a lot of ideas and throw away the bad ones.\" (Linus Pauling)\n",
      "\n"
     ]
    }
   ],
   "source": [
    "!printf '3\\n3\\n' | gmx pdb2gmx -f helical_6alanine_with_ACE.pdb -o helical_6alanine_with_ACE.gro -p helical_6alanine_with_ACE.top -i helical_6alanine_with_ACE.posres.itp -ignh -water tip3p -ff charmm27 -ter"
   ]
  },
  {
   "cell_type": "markdown",
   "id": "9445fc9b-ec60-4ba4-b9b4-dffbd3c4abc9",
   "metadata": {},
   "source": [
    "Now we can take a look at our peptide. It should have all hydrogens, an ACE cap on the N-terminus, and an NME cap on the C-terminus."
   ]
  },
  {
   "cell_type": "code",
   "execution_count": 22,
   "id": "113224d5-11d5-4a4d-8085-d83d730a0976",
   "metadata": {},
   "outputs": [
    {
     "data": {
      "application/vnd.jupyter.widget-view+json": {
       "model_id": "cd59cfaa9dfd4420beeb652032b9bcbd",
       "version_major": 2,
       "version_minor": 0
      },
      "text/plain": [
       "NGLWidget()"
      ]
     },
     "metadata": {},
     "output_type": "display_data"
    }
   ],
   "source": [
    "#view\n",
    "view = nv.show_file('helical_6alanine_with_ACE.gro')\n",
    "view.clear()\n",
    "view.add_representation('ball+stick')\n",
    "view.add_representation('cartoon', selection='protein')\n",
    "view"
   ]
  },
  {
   "cell_type": "code",
   "execution_count": 35,
   "id": "76e78eda-d1b5-45cc-b8ac-234252d21caa",
   "metadata": {},
   "outputs": [
    {
     "name": "stdout",
     "output_type": "stream",
     "text": [
      "S  C  A  M  O  R  G\n",
      "   72\n",
      "    1ACE    CH3    1  -0.330   0.143   0.000\n",
      "    1ACE   HH31    2  -0.327   0.043   0.000\n",
      "    1ACE   HH32    3  -0.378   0.175   0.082\n",
      "    1ACE   HH33    4  -0.378   0.175  -0.082\n",
      "    1ACE      C    5  -0.190   0.197   0.000\n",
      "    1ACE      O    6  -0.243   0.337   0.000\n",
      "    2ALA      N    7  -0.052   0.136   0.000\n",
      "    2ALA     HN    8   0.020   0.205   0.000\n",
      "    2ALA     CA    9   0.000   0.000   0.000\n",
      "    2ALA     HA   10  -0.034  -0.041   0.084\n",
      "    2ALA     CB   11  -0.051  -0.077  -0.121\n",
      "    2ALA    HB1   12  -0.014  -0.170  -0.119\n",
      "    2ALA    HB2   13  -0.151  -0.081  -0.118\n",
      "    2ALA    HB3   14  -0.021  -0.032  -0.204\n",
      "    2ALA      C   15   0.152   0.000   0.000\n",
      "    2ALA      O   16   0.214  -0.072   0.078\n",
      "    3ALA      N   17   0.212   0.081  -0.087\n",
      "    3ALA     HN   18   0.156   0.138  -0.147\n",
      "    3ALA     CA   19   0.357   0.089  -0.096\n",
      "    3ALA     HA   20   0.387  -0.003  -0.121\n",
      "    3ALA     CB   21   0.399   0.189  -0.202\n",
      "    3ALA    HB1   22   0.499   0.193  -0.206\n",
      "    3ALA    HB2   23   0.363   0.161  -0.291\n",
      "    3ALA    HB3   24   0.363   0.280  -0.179\n",
      "    3ALA      C   25   0.418   0.129   0.038\n",
      "    3ALA      O   26   0.514   0.067   0.083\n",
      "    4ALA      N   27   0.361   0.231   0.101\n",
      "    4ALA     HN   28   0.283   0.278   0.059\n",
      "    4ALA     CA   29   0.411   0.278   0.230\n",
      "    4ALA     HA   30   0.506   0.306   0.213\n",
      "    4ALA     CB   31   0.329   0.396   0.280\n",
      "    4ALA    HB1   32   0.365   0.426   0.369\n",
      "    4ALA    HB2   33   0.335   0.471   0.215\n",
      "    4ALA    HB3   34   0.234   0.368   0.291\n",
      "    4ALA      C   35   0.409   0.166   0.333\n",
      "    4ALA      O   36   0.507   0.145   0.405\n",
      "    5ALA      N   37   0.297   0.095   0.341\n",
      "    5ALA     HN   38   0.221   0.117   0.280\n",
      "    5ALA     CA   39   0.283  -0.015   0.436\n",
      "    5ALA     HA   40   0.294   0.028   0.526\n",
      "    5ALA     CB   41   0.147  -0.080   0.424\n",
      "    5ALA    HB1   42   0.139  -0.155   0.491\n",
      "    5ALA    HB2   43   0.076  -0.012   0.443\n",
      "    5ALA    HB3   44   0.135  -0.116   0.332\n",
      "    5ALA      C   45   0.392  -0.119   0.415\n",
      "    5ALA      O   46   0.455  -0.164   0.511\n",
      "    6ALA      N   47   0.413  -0.159   0.290\n",
      "    6ALA     HN   48   0.358  -0.119   0.216\n",
      "    6ALA     CA   49   0.514  -0.259   0.258\n",
      "    6ALA     HA   50   0.486  -0.341   0.307\n",
      "    6ALA     CB   51   0.518  -0.285   0.108\n",
      "    6ALA    HB1   52   0.589  -0.354   0.089\n",
      "    6ALA    HB2   53   0.429  -0.319   0.078\n",
      "    6ALA    HB3   54   0.540  -0.200   0.060\n",
      "    6ALA      C   55   0.652  -0.214   0.306\n",
      "    6ALA      O   56   0.724  -0.292   0.368\n",
      "    7ALA      N   57   0.687  -0.090   0.277\n",
      "    7ALA     HN   58   0.624  -0.031   0.226\n",
      "    7ALA     CA   59   0.817  -0.036   0.317\n",
      "    7ALA     HA   60   0.885  -0.094   0.272\n",
      "    7ALA     CB   61   0.832   0.108   0.273\n",
      "    7ALA    HB1   62   0.922   0.143   0.301\n",
      "    7ALA    HB2   63   0.826   0.113   0.173\n",
      "    7ALA    HB3   64   0.760   0.164   0.314\n",
      "    7ALA      C   65   0.835  -0.045   0.468\n",
      "    7ALA     NT   66   0.732  -0.098   0.539\n",
      "    7ALA    HNT   67   0.658  -0.124   0.477\n",
      "    7ALA    CAT   68   0.748  -0.106   0.674\n",
      "    7ALA    HT1   69   0.666  -0.147   0.715\n",
      "    7ALA    HT2   70   0.827  -0.162   0.695\n",
      "    7ALA    HT3   71   0.761  -0.014   0.711\n",
      "    7ALA      O   72   0.938  -0.004   0.521\n",
      "   1.31574   0.82452   1.00596\n"
     ]
    }
   ],
   "source": [
    "!cat helical_6alanine_with_ACE.gro"
   ]
  },
  {
   "cell_type": "code",
   "execution_count": null,
   "id": "f669ff13-7015-4270-a4ba-6909ea85e0cd",
   "metadata": {},
   "outputs": [],
   "source": []
  }
 ],
 "metadata": {
  "kernelspec": {
   "display_name": "Python 3 (ipykernel)",
   "language": "python",
   "name": "python3"
  },
  "language_info": {
   "codemirror_mode": {
    "name": "ipython",
    "version": 3
   },
   "file_extension": ".py",
   "mimetype": "text/x-python",
   "name": "python",
   "nbconvert_exporter": "python",
   "pygments_lexer": "ipython3",
   "version": "3.12.2"
  }
 },
 "nbformat": 4,
 "nbformat_minor": 5
}
